{
 "cells": [
  {
   "attachments": {},
   "cell_type": "markdown",
   "metadata": {},
   "source": [
    "# The Early Universe\n",
    "\n",
    "## The Very Early Universe and Inflation\n",
    "\n",
    "### Fundamental Particles\n",
    "\n",
    "### Hot and Cold Dark Matter\n",
    "\n",
    "### The Planck Limits on Time, Mass, and Length\n",
    "\n",
    "### Unification and Spontaneous Symmetry Breaking\n",
    "\n",
    "### Problems with the Standard Theory of the Big Bang\n",
    "\n",
    "### Inflation\n",
    "\n",
    "### Virtual Particles and the Energy of the Vacuum\n",
    "\n",
    "### The False Vacuum\n",
    "\n",
    "### Quantum Fluctuations and the Onset of Inflation\n",
    "\n",
    "### Solutions to the Problems of the Standard Big Bang Theory\n",
    "\n",
    "### Matter-Antimatter Asymmetry\n",
    "\n",
    "### The CMB and the Decoupling of Matter and Radiation\n",
    "\n"
   ]
  },
  {
   "attachments": {},
   "cell_type": "markdown",
   "metadata": {},
   "source": [
    "## The Origin of Structure\n",
    "\n",
    "### Adiabatic and Isothermal Density Fluctuations\n",
    "\n",
    "### The Development of Adiabatic Density Fluctuations\n",
    "\n",
    "### Acoustic Oscillations and Damping\n",
    "\n",
    "### The Minimum Mass Required to Survive Damping\n",
    "\n",
    "### The Isothermal Density Fluctuations\n",
    "\n",
    "### The Jeans Mass after Recombination\n",
    "\n",
    "### The Timing of Structure Formation\n",
    "\n",
    "### Determining When the First Stars and Galaxies Formed\n",
    "\n",
    "### Top-Down Galaxy Formation and Hot Dark Matter\n",
    "\n",
    "### Bottom-Up Galaxy Formation and Cold Dark Matter\n",
    "\n",
    "### Cosmic Harmonies and Acoustic Oscillations\n",
    "\n",
    "### Fine-Tuning Our Understanding of Cosmic Harmonies\n",
    "\n",
    "### A Simple Model of Acoustic Oscillations\n",
    "\n",
    "### The Implications of the Angular Power Spectrum Peaks\n",
    "\n",
    "### Polarization of the CMB Anisotropies\n",
    "\n",
    "### Evidence of Harmonics in Large-scale Structure\n"
   ]
  },
  {
   "cell_type": "markdown",
   "metadata": {},
   "source": [
    "## **Homework**\n",
    "```{admonition} Problem 1\n",
    "Problem 1 goes here.\n",
    "```\n"
   ]
  }
 ],
 "metadata": {
  "interpreter": {
   "hash": "be4bb3c2f54353c26a4bcaba16037df563cd9cf9cf84d3cc553cf8d78d2d3996"
  },
  "kernelspec": {
   "display_name": "Python 3.8.8 ('base')",
   "language": "python",
   "name": "python3"
  },
  "language_info": {
   "codemirror_mode": {
    "name": "ipython",
    "version": 3
   },
   "file_extension": ".py",
   "mimetype": "text/x-python",
   "name": "python",
   "nbconvert_exporter": "python",
   "pygments_lexer": "ipython3",
   "version": "3.8.8"
  },
  "orig_nbformat": 4
 },
 "nbformat": 4,
 "nbformat_minor": 2
}
