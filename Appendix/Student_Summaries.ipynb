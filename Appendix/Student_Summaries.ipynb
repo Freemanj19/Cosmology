{
 "cells": [
  {
   "attachments": {},
   "cell_type": "markdown",
   "metadata": {},
   "source": [
    "# Student Participation (Spring 2023)\n",
    "Students will work in pairs to produce summaries of each class meeting.  These summaries should list the main topics discussed and emphasized ideas/examples during the respective lecture.  Students are encouraged to be as detailed as possible without being overly verbose.  The summaries should be submitted as a [pull request](https://docs.github.com/en/codespaces/the-githubdev-web-based-editor) from **your forked repository** before the next class meeting.\n"
   ]
  },
  {
   "attachments": {},
   "cell_type": "markdown",
   "metadata": {},
   "source": [
    "## Jan 10\n",
    "### Class Overview\n",
    "- Introductions\n",
    "  - Dr. Quarles told us about his research.\n",
    "  - He has contributed to several exoplanet discoveries with Kepler and even an exomoon candidate.\n",
    "  - He studies planets with 2 stars in particular, and his latest research has investigated how many moons that could potentially orbit the Earth.  The answer is 3!\n",
    "  - He has studied how obliquity can affect a planet's climate.\n",
    "- Syllabus\n",
    "  - The class syllabus provides us with a roadmap for the course.  \n",
    "  - The course is structured for the students to learn through class participation/activities and homework. \n",
    "  - Student learning will be assessed through exams and in-class presentations.\n",
    "- Course website\n",
    "  - Class notes are provided on the course website, which includes web urls (for jargon) and video explanations of some topics.\n",
    "- GitHub accounts\n",
    "  - GitHub is a convenient way to store and share information.\n",
    "  - Create GitHub account and fork repository.\n"
   ]
  },
  {
   "attachments": {},
   "cell_type": "markdown",
   "metadata": {},
   "source": [
    "## Jan 12 (Freeman)\n",
    "### Intro to Cosmology I\n",
    "\n",
    "**1.1 What is Cosmology?** \n",
    "\n",
    "-Cosmology is the science of the origin and development of our universe and other universes. \n",
    "\n",
    "-Need to know knowledge of the universe because there is chaos in the world. \n",
    "\n",
    "**1.1.1 How does the Universe work?** \n",
    "\n",
    "-Einstein-one of the most famous physicist in modern physics \n",
    "\n",
    "-To answer why the Sun is responsible, many cultures deify the Sun and create rituals (Whenever you see the Sun in the sky, you get warm) \n",
    "\n",
    "-There were some other stars that appeared to wander through the night sky, which they called the planets. \n",
    "\n",
    "-The heliocentric description of how the Universe works would eventually overtake the geocentric view because of technological advancements that improved the observations. \n",
    "\n",
    "**1.1.2 Where did everything come from?** \n",
    "\n",
    "-Another purpose of cosmology is to explain the origin of everything. \n",
    "\n",
    "-Ancient cultures developed their stories using observations in their daily lives. \n",
    "\n",
    "-Galaxies form through clusters of stars interacting with a special substance called dark matter, but the details of the dark matter are still being determined. \n",
    "\n",
    "-Larger structures form clusters of galaxies that all originated from an immense expansion of the Universe from a big bang event. \n",
    "\n",
    "**1.1.3 How does the origin story explain the current structure?** \n",
    "\n",
    "-Around 100 years ago, the Universe consisted of only the Milky Way, and it was static (neither expanding nor contracting). \n",
    "\n",
    "-The Universe was much larger than assumed and it was expanding. This meant that the Universe could have a beginning and thus, an origin story was not completely a human invention. \n",
    "\n",
    "-A changing Universe means that we can map effects to potential causes using observations of the faintest galaxies. \n",
    "\n",
    "-Dark matter affects the formation and rotation of galaxies. \n",
    "\n",
    "-Dark energy makes up around 70% of everything \n",
    "\n",
    "**1.2 Cosmology among many cultures**\n",
    "\n",
    "**1.2.1 Ancient Egypt**\n",
    "\n",
    "-Early Egyptian culture developed a cosmology during the 2nd and 3rd millennia B.C.\n",
    "\n",
    "-The key to the rediscovery of ancient Egyptian culture was with the Rosetta Stone, which was a monument made of stone or wooden slab\n",
    "\n",
    "-The pharaohs (i.e., Egyptian kings) used some of the Egyptian gods (e.g., Osiris, Isis, Ptah, horus and Anubis) to establish their right to rule. From there, the monuments of Egypt were built, which included the pyramids and temples. \n",
    "\n",
    "-Osiris controlled fertility, agriculture, and the afterlife representing the forces of order, while Isis represented motherhood and is the sister-wife of Osiris. The brother of Osiris was Set, who controlled the deserts, violence, and foreigners representing the forces of chaos, with his sister-wife Nephthys who is associated with mourning, night, childbirth, and service to the temple."
   ]
  },
  {
   "attachments": {},
   "cell_type": "markdown",
   "metadata": {},
   "source": [
    "## Jan 17 (Scarlett & Norlund)\n",
    "### Intro to Cosmology II"
   ]
  },
  {
   "attachments": {},
   "cell_type": "markdown",
   "metadata": {},
   "source": [
    "## Jan 19 (Carey & Kennedy)\n",
    "### Special Theory of Relativity I"
   ]
  },
  {
   "attachments": {},
   "cell_type": "markdown",
   "metadata": {},
   "source": [
    "## Jan 24 (Freeman & Leonard)\n",
    "### Special Theory of Relativity II\n",
    "\n",
    "**2.3.2 Proper Length and Length Contraction**\n",
    "\n",
    "\n",
    "\n",
    "*   Both time dilation and the downfall of simultaneity contradict the Newtonian notion of absolute time.\n",
    "\n",
    "*   Length contraction is the relativistic phenomenon where the length of a moving object is measured to be shorter than in its rest frame. It occurs only in the direction of motion, and its effect is significant only when the object is moving at speeds close to the speed of light.\n",
    "\n",
    "\n",
    "*   Only lengths or distances *parallel* to the direction of the relative motion are affect by length contraction; distances perpendicular to the direction of the relative motion are unchanged.\n",
    "\n",
    "\n",
    "**2.3.3 Time Dilation and Length Contraction are Complementary**\n",
    "\n",
    "\n",
    "*   Time dilation and length contraction are not independent effects because they come together from the Lorentz transformation equations. They are complementary.\n",
    "\n",
    "\n",
    "**2.3.4 The Relativistic Doppler Shift**\n",
    "\n",
    "\n",
    "\n",
    "*   In 1842 Christian Doppler showed that as a source of sound moves through a medium (e.g., air), the wavelength is compressed in the forward direction and expanded in the backward direction. *(Doppler Effect)*\n",
    "*   Doppler deduced that the difference between the observed wavelength $\\lambda_{\\rm obs}$ for a moving source of sound and the rest wavelength $\\lambda_{\\rm rest}$ measured in the laboratory for a reference source is related to the radial velocity $v_r$\n",
    "\n",
    "\\begin{align}\n",
    "\\frac{\\lambda_{\\rm obs}-\\lambda_{\\rm rest}}{\\lambda_{\\rm rest}} = \\frac{\\Delta \\lambda}{\\lambda_{\\rm rest}} = \\frac{v_r}{v_s},\n",
    "\\end{align}\n",
    "\n",
    "\n",
    "*   If the source of light is moving *away* from the observer $(v_r>0)$, then $\\lambda_{\\rm obs} > \\lambda_{\\rm rest}$.  This shift to a longer wavelength is called a **redshift**.  \n",
    "*   Similarly, if the source is moving *toward* the observer $(v_r<0)$, then there is a shift to a shorter wavelength, or a **blueshift**.\n",
    "\n",
    "\n",
    "\n",
    "**2.3.5 The Relativistic Velocity Transformation**\n",
    "\n",
    "\n",
    "*   Because space and time intervals are measured differently by different observers in relative motion, velocities must be transformed as well.\n",
    "\n",
    "\n",
    "**2.4 Relativistic Momentum and Energy**\n",
    "\n",
    "\n",
    "\n",
    "\n",
    "*   According to the Principle of Relativity, if momentum is conserved in one inertial frame of reference, then it must be conserved in all inertial frames. *(relativistic momentum vector)*\n",
    "\n",
    "\n",
    "**2.4.1 The Derivation of $E=mc^2$**\n",
    "\n",
    "\n",
    "* Mass and energy are two sides of the same coin; one can be transformed into the other.  \n",
    "\n",
    "**2.4.2 The Derivation of Relativistic Momentum**\n",
    "\n",
    "\n",
    "*   The relativistic momentum vector has the form: p=fmv , where  is a relativistic factor that depends on the magnitude of the particle’s velocity, but not its direction.\n",
    "\n",
    "\n",
    "*   The y and y' components of each particle’s velocity are chose to be arbitrarily small compared to the speed of light c.\n",
    "\n",
    "\n",
    "\n",
    "\n",
    "\n",
    "\n",
    "\n",
    "\n",
    "\n",
    "\n",
    "\n"
   ]
  },
  {
   "attachments": {},
   "cell_type": "markdown",
   "metadata": {},
   "source": [
    "## Jan 26 (Norlund & Carey)\n",
    "### General Relativity I"
   ]
  },
  {
   "attachments": {},
   "cell_type": "markdown",
   "metadata": {},
   "source": [
    "## Jan 31 (Scarlett & Leonard)\n",
    "### General Relativity II"
   ]
  },
  {
   "attachments": {},
   "cell_type": "markdown",
   "metadata": {},
   "source": [
    "## Feb 2 (Kennedy & Freeman)\n",
    "### Black Holes I\n",
    "\n",
    "**3.2.4 Curved Spacetime and the Schwarzschild Metric**\n",
    "\n",
    "\n",
    "*   In spacetime curved by mass, even straightest worldlines curve\n",
    "*   **Geodesics-** Straightest possible worldlines\n",
    "* Massless particles follow null geodesics\n",
    "* Einstein realized: paths followed by freely falling objects are geodesics\n",
    "* 3 fundamental features developed: \n",
    "  1. Mass acts on spacetime, telling it how to curve.\n",
    "  2. Spacetime acts on mass, telling it how to move.\n",
    "  3. Any freely falling particle follows the straightest possible worldline through spacetime.\n",
    "* For symmetry, use spherical coordinates: \n",
    "\n",
    "Metric b/w 2 nearby points in flat space-\n",
    "\n",
    "\\begin{align}\n",
    "(d\\ell)^2 = (dr)^2 + (r\\ d\\theta)^2 + (r\\ \\sin{\\theta}\\ d\\phi)^2,\n",
    "\\end{align}\n",
    "\n",
    "\n",
    "Metric in flat spacetime- \n",
    "\n",
    "\\begin{align}\n",
    "(ds)^2 = (c\\ dt)^2 - (dr)^2 - (r\\ d\\theta)^2 - (r\\ \\sin{\\theta}\\ d\\phi)^2.\n",
    "\\end{align}\n",
    "\n",
    "* Step one- calculate how this object acts on spacetime\n",
    "\n",
    "In curved spacetime around a massive sphere:\n",
    "\n",
    "1. The origin (which is inside the sphere) should not be used as a point of reference...  Instead imagine a series of nested concentric spheres centered at the origin.\n",
    "2. The surface area of a sphere can be measured w/o approaching the origin, so the coordinate $r$ will be defined by the surface of that sphere having an area $4\\pi r^2$.\n",
    "3. As an object moves through the curved spacetime, its **coordinate speed** is just the rate of change of the spatial coordinates.\n",
    "* At large distances spacetime is \"flat\"\n",
    "* Gravitational time dialation is given by:\n",
    "{eq}`grav_time_dilation`\n",
    "* **Karl Schwarzschild-** solved Einstein's feild equations\n",
    "* His solution is **ONLY VALID** in empty space outside the object\n",
    "* Contains the \"curvature of space\" \n",
    "\\begin{align}\n",
    "d\\mathcal{L} = \\sqrt{-(ds)^2} = \\frac{dr}{\\sqrt{1-2GM/(rc^2)}}.\n",
    "\\end{align}\n",
    "* Distance $d\\mathcal{L}$ b/w two points on the same radial line is **GREATER** than the coordinate difference $dr$\n",
    "* Factor $1/\\sqrt{1-2GM/(rc^2)}$ must be included in any calculation of spatial distances\n",
    "*Also incorporates time dialtaion and gravitational redshift\n",
    "\n",
    "If a clock is at rest at the radial coordinate $r$, then the proper time $d\\tau$ it records is related to the time that elapses at an infinite distance by: \n",
    "\\begin{align}\n",
    "d\\tau = \\frac{ds}{c} = dt \\sqrt{1-2GM/(rc^2)}.\n",
    "\\end{align}\n",
    "* B/c $d\\tau < dt$, time passes more slowly closer to the massive sphere.\n",
    "\n",
    "**3.2.5 The Orbit of a Satellite**\n",
    "\n",
    "* According to Newton a satellite orbiting Earth can be found by: \n",
    "\\begin{align*}\n",
    "\\frac{v^2}{r} &= \\frac{GM}{r^2}, \\\\\n",
    "v &= \\sqrt{\\frac{GM}{r}},\n",
    "\\end{align*}\n",
    "\n",
    "where $v$ is the orbital speed.\n",
    "\n",
    "* Determining MAX interval b/w fixed events requires conservation of energy, momentum, and angular momentum \n",
    "\n",
    "Assume the satellite travels around the equator of the host w/ an angular speed $\\omega = v/r$.  \n",
    "* For a closed, unperturbed orbit, we find $dr = 0$, $d\\theta = 0$, and $d\\phi = \\omega dt$.\n",
    "* Apply to Schwarzschild metric\n",
    "\\begin{align*}\n",
    "(ds)^2 &= \\left[ \\left(c\\sqrt{1-2GM/rc^2 }\\right) - r^2 \\omega^2 \\right]dt^2, \\\\\n",
    "&= \\left( c^2 - \\frac{2GM}{r} -r^2\\omega^2 \\right)dt^2.\n",
    "\\end{align*}\n",
    "*We assumed that the orbit is closed and unperturbed\n",
    "* For this to be true -> the satellites must begin and end at the same position $r_o$ for all worldlines\n",
    "* It can move rapidly to a radius $r$, as long as it returns at the same speed\n",
    "\n",
    "To find extremum:\n",
    "$$ \\frac{d}{dr}(\\Delta s) = \\frac{d}{dr} \\left(\\int_0^T \\sqrt{c^2-\\frac{2GM}{r} - r^2\\omega^2 }dt \\right) = 0. $$\n",
    "The derivative may be taken inside the integral-\n",
    "\\begin{align*}\n",
    "\\frac{d}{dr} \\sqrt{c^2-\\frac{2GM}{r} - r^2\\omega^2 } &= 0,\\\\\n",
    "\\frac{d}{dr} \\left( \\frac{2GM}{r} - r^2\\omega^2 \\right) &= 0,\\\\\n",
    "\\frac{2GM}{r^2} - 2r\\omega^2 &=0.\n",
    "\\end{align*}\n",
    "Using $v=r\\omega$-\n",
    "\\begin{align}\n",
    "v = r \\omega = \\sqrt{\\frac{GM}{r}},\n",
    "\\end{align}\n",
    "* This is the **COORDINATE SPEED** of the satellite\n",
    "\n",
    "**3.3 Black Holes**\n",
    "\n",
    "* **John Michell-** believed that stream of particles should be influenced by gravity\n",
    "*A star with 500 times more gravity than the Sun would be strong enough to prevent light from escaping -> Escape Velocity = Speed of Light\n",
    "\n",
    "Newtonian Formula shows: \n",
    "$$ R = \\frac{2GM}{c^2}$$\n",
    "is the radius of a star whose escape velocity is the speed of light\n",
    "\n",
    "* Oppenheimer and Snyder described the gravitational collapse of a massive star that exhausted its sources of nuclear fusion\n",
    "\n",
    "**3.3.1 The Schwarzschild Radius**\n",
    "\n",
    "\n",
    "*   Schwarzschild radius, also called gravitational radius, the radius below which the gravitational attraction between the particles of a body must cause it to undergo irreversible gravitational collapse.\n",
    "*   The speed of light measured by an observed suspended above the collapsed star must always be . A distant observer can determine that the light is delayed as it moves through curved spacetime. The apparent speed of light (i.e., the rate of change for the spatial coordinates of a photon) is called the coordinate speed of light.\n",
    "\n",
    "**3.3.2 A trip into a black Hole**\n",
    "\n",
    "\n",
    "\n",
    "*   The coordinate speed of light becomes slower as the astronomer approaches the black hole, so the signals travel back to us more slowly.\n",
    "*   The gravitational pull on the astronomer’s feet (nearer to the black hole) is stronger than on the astronomer’s head.\n",
    "\n",
    "\n",
    "*   The astronomer need be indestructible because the tidal force would tear the astronomer apart at a distance of several hundred kilometers from the black hole.\n",
    "*   If the photons are pulled toward the center, then they can’t make the return trip for you to detect them. This means that the astronomer never has an opportunity to glimpse the singularity.\n",
    "\n",
    "\n",
    "**3.3.3 Mass ranges of Black Holes**\n",
    "\n",
    "\n",
    "*   Stellar-mass black holes may from directly or indirectly as a consequence of the core-collapse of a sufficiently massive supergiant star.\n",
    "\n",
    "*   It is not clear how intermediate-mass objects might form, although correlation of IMBHs with the cores of globular clusters and low-mass galaxies suggests that they develop through mergers of stars (to form supermassive stars that undergo core-collapse), or by the merger of stellar-mass black holes.\n",
    "*   Supermassive black holes (SMBHs) lie at the centers of many galaxies (probably most). Our own Milky Way Galaxy has a central black hole.  \n",
    "\n",
    "*   Primordial black holes may have been manufactured in the instants of the universe.\n",
    "\n",
    "**3.3.4 Black Holes have no hair!**\n",
    "\n",
    "\n",
    "*   Once the surface of collapsing star reaches the event horizon, the exterior spacetime horizon is spherically symmetric and described by the Schwarzschild metric.\n",
    "*   If the angular momentum of a rotating black hole were to exceed this limit, there would be no event horizon and a naked singularity would appear (in violation of the Law of Cosmic Censorship)."
   ]
  },
  {
   "attachments": {},
   "cell_type": "markdown",
   "metadata": {},
   "source": [
    "## Feb 7 (Carey & Leonard)\n",
    "### Black Holes II"
   ]
  },
  {
   "attachments": {},
   "cell_type": "markdown",
   "metadata": {},
   "source": [
    "## Feb 9 (Freeman & Norlund)\n",
    "### Nature of Galaxies I"
   ]
  },
  {
   "attachments": {},
   "cell_type": "markdown",
   "metadata": {},
   "source": [
    "## Feb 14 (Scarlett & Kennedy)\n",
    "### Nature of Galaxies II"
   ]
  },
  {
   "attachments": {},
   "cell_type": "markdown",
   "metadata": {},
   "source": [
    "## Feb 16 (Leonard & Freeman)\n",
    "### Nature of Galaxies III"
   ]
  },
  {
   "attachments": {},
   "cell_type": "markdown",
   "metadata": {},
   "source": [
    "## Feb 21 (Exam I)"
   ]
  },
  {
   "attachments": {},
   "cell_type": "markdown",
   "metadata": {},
   "source": [
    "## Feb 23 (Kennedy & Carey)\n",
    "### Milky Way Galaxy I"
   ]
  },
  {
   "attachments": {},
   "cell_type": "markdown",
   "metadata": {},
   "source": [
    "## Feb 28 (Norlund & Scarlett)\n",
    "### Milky Way Galaxy II"
   ]
  },
  {
   "attachments": {},
   "cell_type": "markdown",
   "metadata": {},
   "source": [
    "## Mar 2 (Freeman & Kennedy)\n",
    "### Milky Way Galaxy III"
   ]
  },
  {
   "attachments": {},
   "cell_type": "markdown",
   "metadata": {},
   "source": [
    "## Mar 7 (Scarlett & Leonard)\n",
    "### Galactic Evolution I"
   ]
  },
  {
   "attachments": {},
   "cell_type": "markdown",
   "metadata": {},
   "source": [
    "## Mar 9 (Carey & Norlund)\n",
    "### Galactic Evolution II\n",
    "\n",
    "### Astropy (Teaching) Presentations"
   ]
  },
  {
   "attachments": {},
   "cell_type": "markdown",
   "metadata": {},
   "source": [
    "## Mar 14 & 16 (Spring Break)"
   ]
  },
  {
   "attachments": {},
   "cell_type": "markdown",
   "metadata": {},
   "source": [
    "## Mar 21 (Kennedy & Scarlett)\n",
    "### Galactic Evolution III\n",
    "\n",
    "### Astropy (Teaching) Presentations"
   ]
  },
  {
   "attachments": {},
   "cell_type": "markdown",
   "metadata": {},
   "source": [
    "## Mar 23 (Norlund & Freeman)\n",
    "### Structure of the Universe I"
   ]
  },
  {
   "attachments": {},
   "cell_type": "markdown",
   "metadata": {},
   "source": [
    "## Mar 28 (Leonard & Carey)\n",
    "### Structure of the Universe II"
   ]
  },
  {
   "attachments": {},
   "cell_type": "markdown",
   "metadata": {},
   "source": [
    "## Mar 30 (Scarlett & Norlund)\n",
    "### Structure of the Universe III"
   ]
  },
  {
   "attachments": {},
   "cell_type": "markdown",
   "metadata": {},
   "source": [
    "## Apr 4 (Carey & Kennedy)\n",
    "### Active Galaxies I"
   ]
  },
  {
   "attachments": {},
   "cell_type": "markdown",
   "metadata": {},
   "source": [
    "## Apr 6 (Freeman & Leonard)\n",
    "### Active Galaxies II"
   ]
  },
  {
   "attachments": {},
   "cell_type": "markdown",
   "metadata": {},
   "source": [
    "## Apr 11 (Norlund & Carey)\n",
    "### Active Galaxies III"
   ]
  },
  {
   "attachments": {},
   "cell_type": "markdown",
   "metadata": {},
   "source": [
    "## Apr 13 (Exam II)"
   ]
  },
  {
   "attachments": {},
   "cell_type": "markdown",
   "metadata": {},
   "source": [
    "## Apr 18 (Leonard & Scarlett)\n",
    "### Cosmology I"
   ]
  },
  {
   "attachments": {},
   "cell_type": "markdown",
   "metadata": {},
   "source": [
    "## Apr 20 (Kennedy & Freeman)\n",
    "### Cosmology II\n",
    "\n",
    "### Paper Presentations"
   ]
  },
  {
   "attachments": {},
   "cell_type": "markdown",
   "metadata": {},
   "source": [
    "## Apr 25 (Carey & Leonard)\n",
    "### The Early Universe I \n",
    "\n",
    "### Paper Presentations"
   ]
  },
  {
   "attachments": {},
   "cell_type": "markdown",
   "metadata": {},
   "source": [
    "## Apr 27 (Freeman & Norlund)\n",
    "### The Early Universe II\n",
    "\n",
    "### Paper Presentations"
   ]
  },
  {
   "attachments": {},
   "cell_type": "markdown",
   "metadata": {},
   "source": [
    "## May 5 (Final Exam)"
   ]
  }
 ],
 "metadata": {
  "kernelspec": {
   "display_name": "Python 3.8.8 ('base')",
   "language": "python",
   "name": "python3"
  },
  "language_info": {
   "codemirror_mode": {
    "name": "ipython",
    "version": 3
   },
   "file_extension": ".py",
   "mimetype": "text/x-python",
   "name": "python",
   "nbconvert_exporter": "python",
   "pygments_lexer": "ipython3",
   "version": "3.8.8 (default, Apr 13 2021, 15:08:03) [MSC v.1916 64 bit (AMD64)]"
  },
  "orig_nbformat": 4,
  "vscode": {
   "interpreter": {
    "hash": "be4bb3c2f54353c26a4bcaba16037df563cd9cf9cf84d3cc553cf8d78d2d3996"
   }
  }
 },
 "nbformat": 4,
 "nbformat_minor": 2
}
