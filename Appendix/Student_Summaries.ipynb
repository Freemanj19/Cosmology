{
 "cells": [
  {
   "attachments": {},
   "cell_type": "markdown",
   "metadata": {},
   "source": [
    "# Student Participation (Spring 2023)\n",
    "Students will work in pairs to produce summaries of each class meeting.  These summaries should list the main topics discussed and emphasized ideas/examples during the respective lecture.  Students are encouraged to be as detailed as possible without being overly verbose.  The summaries should be submitted as a [pull request](https://docs.github.com/en/codespaces/the-githubdev-web-based-editor) from **your forked repository** before the next class meeting.\n"
   ]
  },
  {
   "attachments": {},
   "cell_type": "markdown",
   "metadata": {},
   "source": [
    "## Jan 10\n",
    "### Class Overview\n",
    "- Introductions\n",
    "  - Dr. Quarles told us about his research.\n",
    "  - He has contributed to several exoplanet discoveries with Kepler and even an exomoon candidate.\n",
    "  - He studies planets with 2 stars in particular, and his latest research has investigated how many moons that could potentially orbit the Earth.  The answer is 3!\n",
    "  - He has studied how obliquity can affect a planet's climate.\n",
    "- Syllabus\n",
    "  - The class syllabus provides us with a roadmap for the course.  \n",
    "  - The course is structured for the students to learn through class participation/activities and homework. \n",
    "  - Student learning will be assessed through exams and in-class presentations.\n",
    "- Course website\n",
    "  - Class notes are provided on the course website, which includes web urls (for jargon) and video explanations of some topics.\n",
    "- GitHub accounts\n",
    "  - GitHub is a convenient way to store and share information.\n",
    "  - Create GitHub account and fork repository.\n"
   ]
  },
  {
   "attachments": {},
   "cell_type": "markdown",
   "metadata": {},
   "source": [
    "## Jan 12 (Freeman)\n",
    "### Intro to Cosmology I\n",
    "\n",
    "**1.1 What is Cosmology?** \n",
    "\n",
    "-Cosmology is the science of the origin and development of our universe and other universes. \n",
    "\n",
    "-Need to know knowledge of the universe because there is chaos in the world. \n",
    "\n",
    "**1.1.1 How does the Universe work?** \n",
    "\n",
    "-Einstein-one of the most famous physicist in modern physics \n",
    "\n",
    "-To answer why the Sun is responsible, many cultures deify the Sun and create rituals (Whenever you see the Sun in the sky, you get warm) \n",
    "\n",
    "-There were some other stars that appeared to wander through the night sky, which they called the planets. \n",
    "\n",
    "-The heliocentric description of how the Universe works would eventually overtake the geocentric view because of technological advancements that improved the observations. \n",
    "\n",
    "**1.1.2 Where did everything come from?** \n",
    "\n",
    "-Another purpose of cosmology is to explain the origin of everything. \n",
    "\n",
    "-Ancient cultures developed their stories using observations in their daily lives. \n",
    "\n",
    "-Galaxies form through clusters of stars interacting with a special substance called dark matter, but the details of the dark matter are still being determined. \n",
    "\n",
    "-Larger structures form clusters of galaxies that all originated from an immense expansion of the Universe from a big bang event. \n",
    "\n",
    "**1.1.3 How does the origin story explain the current structure?** \n",
    "\n",
    "-Around 100 years ago, the Universe consisted of only the Milky Way, and it was static (neither expanding nor contracting). \n",
    "\n",
    "-The Universe was much larger than assumed and it was expanding. This meant that the Universe could have a beginning and thus, an origin story was not completely a human invention. \n",
    "\n",
    "-A changing Universe means that we can map effects to potential causes using observations of the faintest galaxies. \n",
    "\n",
    "-Dark matter affects the formation and rotation of galaxies. \n",
    "\n",
    "-Dark energy makes up around 70% of everything \n",
    "\n",
    "**1.2 Cosmology among many cultures**\n",
    "\n",
    "**1.2.1 Ancient Egypt**\n",
    "\n",
    "-Early Egyptian culture developed a cosmology during the 2nd and 3rd millennia B.C.\n",
    "\n",
    "-The key to the rediscovery of ancient Egyptian culture was with the Rosetta Stone, which was a monument made of stone or wooden slab\n",
    "\n",
    "-The pharaohs (i.e., Egyptian kings) used some of the Egyptian gods (e.g., Osiris, Isis, Ptah, horus and Anubis) to establish their right to rule. From there, the monuments of Egypt were built, which included the pyramids and temples. \n",
    "\n",
    "-Osiris controlled fertility, agriculture, and the afterlife representing the forces of order, while Isis represented motherhood and is the sister-wife of Osiris. The brother of Osiris was Set, who controlled the deserts, violence, and foreigners representing the forces of chaos, with his sister-wife Nephthys who is associated with mourning, night, childbirth, and service to the temple."
   ]
  },
  {
   "attachments": {},
   "cell_type": "markdown",
   "metadata": {},
   "source": [
    "## Jan 17 (Scarlett & Norlund)\n",
    "### Intro to Cosmology II"
   ]
  },
  {
   "attachments": {},
   "cell_type": "markdown",
   "metadata": {},
   "source": [
    "## Jan 19 (Carey & Kennedy)\n",
    "### Special Theory of Relativity I"
   ]
  },
  {
   "attachments": {},
   "cell_type": "markdown",
   "metadata": {},
   "source": [
    "## Jan 24 (Freeman & Leonard)\n",
    "### Special Theory of Relativity II\n",
    "\n",
    "**2.3.2 Proper Length and Length Contraction**\n",
    "\n",
    "\n",
    "\n",
    "*   Both time dilation and the downfall of simultaneity contradict the Newtonian notion of absolute time.\n",
    "\n",
    "*   Length contraction is the relativistic phenomenon where the length of a moving object is measured to be shorter than in its rest frame. It occurs only in the direction of motion, and its effect is significant only when the object is moving at speeds close to the speed of light.\n",
    "\n",
    "\n",
    "*   Only lengths or distances *parallel* to the direction of the relative motion are affect by length contraction; distances perpendicular to the direction of the relative motion are unchanged.\n",
    "\n",
    "\n",
    "**2.3.3 Time Dilation and Length Contraction are Complementary**\n",
    "\n",
    "\n",
    "*   Time dilation and length contraction are not independent effects because they come together from the Lorentz transformation equations. They are complementary.\n",
    "\n",
    "\n",
    "**2.3.4 The Relativistic Doppler Shift**\n",
    "\n",
    "\n",
    "\n",
    "*   In 1842 Christian Doppler showed that as a source of sound moves through a medium (e.g., air), the wavelength is compressed in the forward direction and expanded in the backward direction. *(Doppler Effect)*\n",
    "*   Doppler deduced that the difference between the observed wavelength $\\lambda_{\\rm obs}$ for a moving source of sound and the rest wavelength $\\lambda_{\\rm rest}$ measured in the laboratory for a reference source is related to the radial velocity $v_r$\n",
    "\n",
    "\\begin{align}\n",
    "\\frac{\\lambda_{\\rm obs}-\\lambda_{\\rm rest}}{\\lambda_{\\rm rest}} = \\frac{\\Delta \\lambda}{\\lambda_{\\rm rest}} = \\frac{v_r}{v_s},\n",
    "\\end{align}\n",
    "\n",
    "\n",
    "*   If the source of light is moving *away* from the observer $(v_r>0)$, then $\\lambda_{\\rm obs} > \\lambda_{\\rm rest}$.  This shift to a longer wavelength is called a **redshift**.  \n",
    "*   Similarly, if the source is moving *toward* the observer $(v_r<0)$, then there is a shift to a shorter wavelength, or a **blueshift**.\n",
    "\n",
    "\n",
    "\n",
    "**2.3.5 The Relativistic Velocity Transformation**\n",
    "\n",
    "\n",
    "*   Because space and time intervals are measured differently by different observers in relative motion, velocities must be transformed as well.\n",
    "\n",
    "\n",
    "**2.4 Relativistic Momentum and Energy**\n",
    "\n",
    "\n",
    "\n",
    "\n",
    "*   According to the Principle of Relativity, if momentum is conserved in one inertial frame of reference, then it must be conserved in all inertial frames. *(relativistic momentum vector)*\n",
    "\n",
    "\n",
    "**2.4.1 The Derivation of $E=mc^2$**\n",
    "\n",
    "\n",
    "* Mass and energy are two sides of the same coin; one can be transformed into the other.  \n",
    "\n",
    "**2.4.2 The Derivation of Relativistic Momentum**\n",
    "\n",
    "\n",
    "*   The relativistic momentum vector has the form: p=fmv , where  is a relativistic factor that depends on the magnitude of the particle’s velocity, but not its direction.\n",
    "\n",
    "\n",
    "*   The y and y' components of each particle’s velocity are chose to be arbitrarily small compared to the speed of light c.\n",
    "\n",
    "\n",
    "\n",
    "\n",
    "\n",
    "\n",
    "\n",
    "\n",
    "\n",
    "\n",
    "\n"
   ]
  },
  {
   "attachments": {},
   "cell_type": "markdown",
   "metadata": {},
   "source": [
    "## Jan 26 (Norlund & Carey)\n",
    "### General Relativity I"
   ]
  },
  {
   "attachments": {},
   "cell_type": "markdown",
   "metadata": {},
   "source": [
    "## Jan 31 (Scarlett & Leonard)\n",
    "### General Relativity II"
   ]
  },
  {
   "attachments": {},
   "cell_type": "markdown",
   "metadata": {},
   "source": [
    "## Feb 2 (Kennedy & Freeman)\n",
    "### Black Holes I\n",
    "\n",
    "**3.2.4 Curved Spacetime and the Schwarzschild Metric**\n",
    "\n",
    "\n",
    "*   In spacetime curved by mass, even straightest worldlines curve\n",
    "*   **Geodesics-** Straightest possible worldlines\n",
    "* Massless particles follow null geodesics\n",
    "* Einstein realized: paths followed by freely falling objects are geodesics\n",
    "* 3 fundamental features developed: \n",
    "  1. Mass acts on spacetime, telling it how to curve.\n",
    "  2. Spacetime acts on mass, telling it how to move.\n",
    "  3. Any freely falling particle follows the straightest possible worldline through spacetime.\n",
    "* For symmetry, use spherical coordinates: \n",
    "\n",
    "Metric b/w 2 nearby points in flat space-\n",
    "\n",
    "\\begin{align}\n",
    "(d\\ell)^2 = (dr)^2 + (r\\ d\\theta)^2 + (r\\ \\sin{\\theta}\\ d\\phi)^2,\n",
    "\\end{align}\n",
    "\n",
    "\n",
    "Metric in flat spacetime- \n",
    "\n",
    "\\begin{align}\n",
    "(ds)^2 = (c\\ dt)^2 - (dr)^2 - (r\\ d\\theta)^2 - (r\\ \\sin{\\theta}\\ d\\phi)^2.\n",
    "\\end{align}\n",
    "\n",
    "* Step one- calculate how this object acts on spacetime\n",
    "\n",
    "In curved spacetime around a massive sphere:\n",
    "\n",
    "1. The origin (which is inside the sphere) should not be used as a point of reference...  Instead imagine a series of nested concentric spheres centered at the origin.\n",
    "2. The surface area of a sphere can be measured w/o approaching the origin, so the coordinate $r$ will be defined by the surface of that sphere having an area $4\\pi r^2$.\n",
    "3. As an object moves through the curved spacetime, its **coordinate speed** is just the rate of change of the spatial coordinates.\n",
    "* At large distances spacetime is \"flat\"\n",
    "* Gravitational time dialation is given by:\n",
    "{eq}`grav_time_dilation`\n",
    "* **Karl Schwarzschild-** solved Einstein's feild equations\n",
    "* His solution is **ONLY VALID** in empty space outside the object\n",
    "* Contains the \"curvature of space\" \n",
    "\\begin{align}\n",
    "d\\mathcal{L} = \\sqrt{-(ds)^2} = \\frac{dr}{\\sqrt{1-2GM/(rc^2)}}.\n",
    "\\end{align}\n",
    "* Distance $d\\mathcal{L}$ b/w two points on the same radial line is **GREATER** than the coordinate difference $dr$\n",
    "* Factor $1/\\sqrt{1-2GM/(rc^2)}$ must be included in any calculation of spatial distances\n",
    "*Also incorporates time dialtaion and gravitational redshift\n",
    "\n",
    "If a clock is at rest at the radial coordinate $r$, then the proper time $d\\tau$ it records is related to the time that elapses at an infinite distance by: \n",
    "\\begin{align}\n",
    "d\\tau = \\frac{ds}{c} = dt \\sqrt{1-2GM/(rc^2)}.\n",
    "\\end{align}\n",
    "* B/c $d\\tau < dt$, time passes more slowly closer to the massive sphere.\n",
    "\n",
    "**3.2.5 The Orbit of a Satellite**\n",
    "\n",
    "* According to Newton a satellite orbiting Earth can be found by: \n",
    "\\begin{align*}\n",
    "\\frac{v^2}{r} &= \\frac{GM}{r^2}, \\\\\n",
    "v &= \\sqrt{\\frac{GM}{r}},\n",
    "\\end{align*}\n",
    "\n",
    "where $v$ is the orbital speed.\n",
    "\n",
    "* Determining MAX interval b/w fixed events requires conservation of energy, momentum, and angular momentum \n",
    "\n",
    "Assume the satellite travels around the equator of the host w/ an angular speed $\\omega = v/r$.  \n",
    "* For a closed, unperturbed orbit, we find $dr = 0$, $d\\theta = 0$, and $d\\phi = \\omega dt$.\n",
    "* Apply to Schwarzschild metric\n",
    "\\begin{align*}\n",
    "(ds)^2 &= \\left[ \\left(c\\sqrt{1-2GM/rc^2 }\\right) - r^2 \\omega^2 \\right]dt^2, \\\\\n",
    "&= \\left( c^2 - \\frac{2GM}{r} -r^2\\omega^2 \\right)dt^2.\n",
    "\\end{align*}\n",
    "*We assumed that the orbit is closed and unperturbed\n",
    "* For this to be true -> the satellites must begin and end at the same position $r_o$ for all worldlines\n",
    "* It can move rapidly to a radius $r$, as long as it returns at the same speed\n",
    "\n",
    "To find extremum:\n",
    "$$ \\frac{d}{dr}(\\Delta s) = \\frac{d}{dr} \\left(\\int_0^T \\sqrt{c^2-\\frac{2GM}{r} - r^2\\omega^2 }dt \\right) = 0. $$\n",
    "The derivative may be taken inside the integral-\n",
    "\\begin{align*}\n",
    "\\frac{d}{dr} \\sqrt{c^2-\\frac{2GM}{r} - r^2\\omega^2 } &= 0,\\\\\n",
    "\\frac{d}{dr} \\left( \\frac{2GM}{r} - r^2\\omega^2 \\right) &= 0,\\\\\n",
    "\\frac{2GM}{r^2} - 2r\\omega^2 &=0.\n",
    "\\end{align*}\n",
    "Using $v=r\\omega$-\n",
    "\\begin{align}\n",
    "v = r \\omega = \\sqrt{\\frac{GM}{r}},\n",
    "\\end{align}\n",
    "* This is the **COORDINATE SPEED** of the satellite\n",
    "\n",
    "**3.3 Black Holes**\n",
    "\n",
    "* **John Michell-** believed that stream of particles should be influenced by gravity\n",
    "*A star with 500 times more gravity than the Sun would be strong enough to prevent light from escaping -> Escape Velocity = Speed of Light\n",
    "\n",
    "Newtonian Formula shows: \n",
    "$$ R = \\frac{2GM}{c^2}$$\n",
    "is the radius of a star whose escape velocity is the speed of light\n",
    "\n",
    "* Oppenheimer and Snyder described the gravitational collapse of a massive star that exhausted its sources of nuclear fusion\n",
    "\n",
    "**3.3.1 The Schwarzschild Radius**\n",
    "\n",
    "\n",
    "*   Schwarzschild radius, also called gravitational radius, the radius below which the gravitational attraction between the particles of a body must cause it to undergo irreversible gravitational collapse.\n",
    "*   The speed of light measured by an observed suspended above the collapsed star must always be . A distant observer can determine that the light is delayed as it moves through curved spacetime. The apparent speed of light (i.e., the rate of change for the spatial coordinates of a photon) is called the coordinate speed of light.\n",
    "\n",
    "**3.3.2 A trip into a black Hole**\n",
    "\n",
    "\n",
    "\n",
    "*   The coordinate speed of light becomes slower as the astronomer approaches the black hole, so the signals travel back to us more slowly.\n",
    "*   The gravitational pull on the astronomer’s feet (nearer to the black hole) is stronger than on the astronomer’s head.\n",
    "\n",
    "\n",
    "*   The astronomer need be indestructible because the tidal force would tear the astronomer apart at a distance of several hundred kilometers from the black hole.\n",
    "*   If the photons are pulled toward the center, then they can’t make the return trip for you to detect them. This means that the astronomer never has an opportunity to glimpse the singularity.\n",
    "\n",
    "\n",
    "**3.3.3 Mass ranges of Black Holes**\n",
    "\n",
    "\n",
    "*   Stellar-mass black holes may from directly or indirectly as a consequence of the core-collapse of a sufficiently massive supergiant star.\n",
    "\n",
    "*   It is not clear how intermediate-mass objects might form, although correlation of IMBHs with the cores of globular clusters and low-mass galaxies suggests that they develop through mergers of stars (to form supermassive stars that undergo core-collapse), or by the merger of stellar-mass black holes.\n",
    "*   Supermassive black holes (SMBHs) lie at the centers of many galaxies (probably most). Our own Milky Way Galaxy has a central black hole.  \n",
    "\n",
    "*   Primordial black holes may have been manufactured in the instants of the universe.\n",
    "\n",
    "**3.3.4 Black Holes have no hair!**\n",
    "\n",
    "\n",
    "*   Once the surface of collapsing star reaches the event horizon, the exterior spacetime horizon is spherically symmetric and described by the Schwarzschild metric.\n",
    "*   If the angular momentum of a rotating black hole were to exceed this limit, there would be no event horizon and a naked singularity would appear (in violation of the Law of Cosmic Censorship)."
   ]
  },
  {
   "attachments": {},
   "cell_type": "markdown",
   "metadata": {},
   "source": [
    "## Feb 7 (Carey & Leonard)\n",
    "### Black Holes II"
   ]
  },
  {
   "attachments": {},
   "cell_type": "markdown",
   "metadata": {},
   "source": [
    "## Feb 9 (Freeman & Norlund)\n",
    "### Nature of Galaxies I"
   ]
  },
  {
   "attachments": {},
   "cell_type": "markdown",
   "metadata": {},
   "source": [
    "## Feb 14 (Scarlett & Kennedy)\n",
    "### Nature of Galaxies II"
   ]
  },
  {
   "attachments": {},
   "cell_type": "markdown",
   "metadata": {},
   "source": [
    "## Feb 16 (Leonard & Freeman)\n",
    "### Nature of Galaxies III\n",
    "\n",
    "**4.2.8 Metallicity and Color Gradients of Spirals**\n",
    "\n",
    "\n",
    "*   Individual spiral galaxies also exhibit color gradients with their bulges generally being redder than their disks. This arises for two reasons: metallicity gradients and star formation activity.\n",
    "\n",
    "*   Star formation (the second major cause of color gradients) implies that the disks of spiral galaxies are more actively involved in star-making than are their bulges. This is consistent with the distribution of gas and dust in the galaxies.\n",
    "*   Metallicity correlates with the absolute magnitude of galaxies\n",
    "\n",
    "\n",
    "**4.2.9 X-ray Luminosity**\n",
    "\n",
    "\n",
    "*   The X-ray luminosities of galaxies also provide some information concerning their evolution.\n",
    "*   X-rays are due to a class of objects that constitutes an approximately constant fraction of the population of all objects in spirals. The suspected sources are X-ray binaries. \n",
    "*   It is probable that supernova remnants also contribute to the X-ray emission.\n",
    "\n",
    "**4.2.10 Supermassive black holes**\n",
    "\n",
    "\n",
    "*   How do we know that there is a SMBH in the middle of the milky way? Observations of stellar and gas motions near the centers of some spirals suggest the presence of supermassive black holes.\n",
    "*   To determine an accurate value for the mass, an appropriate choice of  must be made. As the observations move farther from the black hole, contributions to the total mass increase from surrounding stars and gas.\n",
    "\n",
    "\n",
    "**4.2.11 Specific Frequency of globular clusters**\n",
    "\n",
    "\n",
    "*   Galaxies that are more spheroidally dominant (i.e., earlier Hubble types) were more efficient at forming globular clusters during their histories.\n",
    "\n",
    "**4.3 Spiral Structure**\n",
    "\n",
    "\n",
    "*   Galaxies exhibit a rich variety of spiral structure, which vary in\n",
    "\n",
    "  -the number of arms and how tightly wound they are,\n",
    "\n",
    "  -degree of smoothness in the distribution of stars and gas\n",
    "\n",
    "  -surface brightness, and\n",
    "\n",
    "  -the existence (or lack) of bars.\n",
    "*   Not all spirals are grand designs with two distinct arms. For instance, M101 has four arms, and NGC 2841 has a series of partial arm fragments. Galaxies like NGC 2841, which do not possess well-defined spiral arms that are traceable over a significant angular distance are called flocculent spirals.\n",
    "*   The optical images of spiral galaxies are dominated by their arms because very luminous O and B main-sequence stars and H II regions are found preferentially in the arms.\n",
    "*   When spiral galaxies are observed in red light, the arms become much broader and less pronounced. Although they still remain detectable. Observations at red wavelengths emphasize the emission of long-lived, lower-mass main-sequence stars and red giants, which implies that the bulk of the disk is dominated by older stars.\n",
    "\n",
    "**4.3.1 Trailing and Leading Spiral Arms**\n",
    "*   The general appearance of spiral galaxies suggests that their arms are trailing, where the tips of the arms point in the opposite direction relative to the direction of rotation.\n",
    "*   What is the distinction between trailing and leading? Distinguishing between trailing and leading arms (along the direction of rotation) requires determination of the orientation of the plane of the galaxy relative to our line-of-sight\n",
    "\n",
    "**4.3.2 The winding problem**\n",
    "*   One problem arises when the nature of the spiral structure is considered: material arms composed of a fixed set of identifiable stars and gas clouds would necessarily “wind up” on a timescale that is short compared to the age of the galaxy.\n",
    "*   The simplest idea for the origin of spiral arms is that somehow the material in the galaxy condensed into its spiral pattern from the very start, and that pattern has remained fixed since then. Unfortunately, this idea immediately runs into trouble because galaxies exhibit differential rotation.\n",
    "\n",
    "**4.3.3 The Lin-Shu Density Wave Theory**\n",
    "*    C.C. Lin and Frank Shu proposed that spiral structure arises because of the presence of long-lived quasistatic density waves.\n",
    "*   Less massive, redder stars will be able to live much longer (some much longer than the current age of the galaxy) and so will continue through the density wave and become distributed throughout the disk.\n",
    "*   It is likely that less dust and gas will be found in these outer regions of the galaxy.\n",
    "\n"
   ]
  },
  {
   "attachments": {},
   "cell_type": "markdown",
   "metadata": {},
   "source": [
    "## Feb 21 (Exam I)"
   ]
  },
  {
   "attachments": {},
   "cell_type": "markdown",
   "metadata": {},
   "source": [
    "## Feb 23 (Kennedy & Carey)\n",
    "### Milky Way Galaxy I"
   ]
  },
  {
   "attachments": {},
   "cell_type": "markdown",
   "metadata": {},
   "source": [
    "## Feb 28 (Norlund & Scarlett)\n",
    "### Milky Way Galaxy II"
   ]
  },
  {
   "attachments": {},
   "cell_type": "markdown",
   "metadata": {},
   "source": [
    "## Mar 2 (Freeman & Kennedy)\n",
    "### Milky Way Galaxy III"
   ]
  },
  {
   "attachments": {},
   "cell_type": "markdown",
   "metadata": {},
   "source": [
    "## Mar 7 (Scarlett & Leonard)\n",
    "### Galactic Evolution I"
   ]
  },
  {
   "attachments": {},
   "cell_type": "markdown",
   "metadata": {},
   "source": [
    "## Mar 9 (Carey & Norlund)\n",
    "### Galactic Evolution II\n",
    "\n",
    "### Astropy (Teaching) Presentations"
   ]
  },
  {
   "attachments": {},
   "cell_type": "markdown",
   "metadata": {},
   "source": [
    "## Mar 14 & 16 (Spring Break)"
   ]
  },
  {
   "attachments": {},
   "cell_type": "markdown",
   "metadata": {},
   "source": [
    "## Mar 21 (Kennedy & Scarlett)\n",
    "### Galactic Evolution III\n",
    "\n",
    "### Astropy (Teaching) Presentations"
   ]
  },
  {
   "attachments": {},
   "cell_type": "markdown",
   "metadata": {},
   "source": [
    "## Mar 23 (Norlund & Freeman)\n",
    "### Structure of the Universe I\n",
    "\n",
    "**Chapter 6**\n",
    "\n",
    "**6.1 Interactions of Galaxies**\n",
    "\n",
    "**6.1.1 Evidence of Interactions**\n",
    "\n",
    "\n",
    "*   Nearly all galaxies belong to clusters. Densely populated clusters (e.g., the Coma cluster) have a higher proportion of elliptical galaxies (i.e., early-type) in their center than they do in their outer, less dense regions. \n",
    "\n",
    "*   The central regions of these rich, regularly shaped clusters also have a higher proportions of ellipticals than the centers of less populated, amorphous irregular clusters (e.g., Hercules cluster).\n",
    "\n",
    "\n",
    "\n",
    "*   At least  of all disk galaxies display warped disks. Due to observations, we suggest that hot, X-ray emitting gas occupies much of the space between galaxies in rich clusters and has a mass equal to (or exceeding) the mass of all the cluster’s stars. It could be due to the grtavitational influence. \n",
    "\n",
    "**6.1.2 Dynamical Friction**\n",
    "\n",
    "\n",
    "*   The interactions between stars are gravitational in nature. \n",
    "*   The dynamical friction is the opposing force that comes into play when one body is actually moving over the surface of another body. It is the friction related with motion or with simple term a body slides over another body and experiences a opposing force know dynamic friction.\n",
    "\n",
    "\n",
    "*   The expression for the force of dynamical friction will have the following form,\n",
    "\n",
    "\\begin{align}\n",
    "f_d \\simeq C \\left(\\frac{GM}{v_M} \\right)^2 \\rho,\n",
    "\\end{align}\n",
    "\n",
    "where $C$ is dimensionless, but not a constant.  It is a function that depends on how $v_M$ compares with the velocity dispersion $\\sigma$ of the surrounding medium.\n",
    "*   Satellite galaxies are also affected by dynamical friction. \n",
    "\n",
    "**6.1.3 Rapid Encounters** \n",
    "\n",
    "\n",
    "*   In impulse approximation, the stars barely have time to alter their positions. As a result, the internal potential energy of each galaxy is unchanged by the collision. However, the gravitational work that each galaxy performs on the other has increased the internal kinetic energies of both galaxies in a random way.\n",
    "\n",
    "\\begin{align*}\n",
    "\n",
    "    K_f &= K_i + \\Delta K, \\qquad& \\text{(just after collision)}\n",
    "\n",
    "    K_f^\\prime &= -E_f = -(E_i + \\Delta K) = K_i - \\Delta K, \\qquad& \\text{(after equilibration)} \n",
    "\n",
    "    K_f^\\prime &= K_f - 2\\Delta K. \n",
    "\n",
    "\\end{align*}\n",
    "\n",
    "\n",
    "*   The equation explains hpow the equilibrium can be re-established after the encounter caused the galaxy's internal kinetic energy to increase. \n",
    "\n",
    "*   Tidal stripping occurs when a larger galaxy pulls stars and other stellar material from a smaller galaxy because of strong tidal forces.\n",
    "*   Polar-ring galaxies and dust-lane ellipticals are normal galaxies that are orbited by rings of gas, dust, and stars that were stripped from other galaxies as they passed by or merged.\n"
   ]
  },
  {
   "attachments": {},
   "cell_type": "markdown",
   "metadata": {},
   "source": [
    "## Mar 28 (Leonard & Carey)\n",
    "### Structure of the Universe II"
   ]
  },
  {
   "attachments": {},
   "cell_type": "markdown",
   "metadata": {},
   "source": [
    "## Mar 30 (Scarlett & Norlund)\n",
    "### Structure of the Universe III"
   ]
  },
  {
   "attachments": {},
   "cell_type": "markdown",
   "metadata": {},
   "source": [
    "## Apr 4 (Carey & Kennedy)\n",
    "### Active Galaxies I"
   ]
  },
  {
   "attachments": {},
   "cell_type": "markdown",
   "metadata": {},
   "source": [
    "## Apr 6 (Freeman & Leonard)\n",
    "### Active Galaxies II"
   ]
  },
  {
   "attachments": {},
   "cell_type": "markdown",
   "metadata": {},
   "source": [
    "## Apr 11 (Norlund & Carey)\n",
    "### Active Galaxies III"
   ]
  },
  {
   "attachments": {},
   "cell_type": "markdown",
   "metadata": {},
   "source": [
    "## Apr 13 (Exam II)"
   ]
  },
  {
   "attachments": {},
   "cell_type": "markdown",
   "metadata": {},
   "source": [
    "## Apr 18 (Leonard & Scarlett)\n",
    "### Cosmology I"
   ]
  },
  {
   "attachments": {},
   "cell_type": "markdown",
   "metadata": {},
   "source": [
    "## Apr 20 (Kennedy & Freeman)\n",
    "### Cosmology II\n",
    "\n",
    "### Paper Presentations"
   ]
  },
  {
   "attachments": {},
   "cell_type": "markdown",
   "metadata": {},
   "source": [
    "## Apr 25 (Carey & Leonard)\n",
    "### The Early Universe I \n",
    "\n",
    "### Paper Presentations"
   ]
  },
  {
   "attachments": {},
   "cell_type": "markdown",
   "metadata": {},
   "source": [
    "## Apr 27 (Freeman & Norlund)\n",
    "### The Early Universe II\n",
    "\n",
    "### Paper Presentations"
   ]
  },
  {
   "attachments": {},
   "cell_type": "markdown",
   "metadata": {},
   "source": [
    "## May 5 (Final Exam)"
   ]
  }
 ],
 "metadata": {
  "kernelspec": {
   "display_name": "Python 3.8.8 ('base')",
   "language": "python",
   "name": "python3"
  },
  "language_info": {
   "codemirror_mode": {
    "name": "ipython",
    "version": 3
   },
   "file_extension": ".py",
   "mimetype": "text/x-python",
   "name": "python",
   "nbconvert_exporter": "python",
   "pygments_lexer": "ipython3",
   "version": "3.8.8 (default, Apr 13 2021, 15:08:03) [MSC v.1916 64 bit (AMD64)]"
  },
  "orig_nbformat": 4,
  "vscode": {
   "interpreter": {
    "hash": "be4bb3c2f54353c26a4bcaba16037df563cd9cf9cf84d3cc553cf8d78d2d3996"
   }
  }
 },
 "nbformat": 4,
 "nbformat_minor": 2
}
