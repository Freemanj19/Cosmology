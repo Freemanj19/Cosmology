{
 "cells": [
  {
   "cell_type": "markdown",
   "metadata": {},
   "source": [
    "# The Theory of Special Relativity\n",
    "\n",
    "## The Failure of the Galilean Transformations\n",
    "\n",
    "### The Galilean Transformations\n",
    "\n",
    "### The Michelson-Morley Experiment\n"
   ]
  },
  {
   "cell_type": "markdown",
   "metadata": {},
   "source": [
    "\n",
    "## The Lorentz Transformations\n",
    "\n",
    "### The Derivation of the Lorentz Transformations\n",
    "\n",
    "### Four-Dimensional Spacetime\n"
   ]
  },
  {
   "cell_type": "markdown",
   "metadata": {},
   "source": [
    "\n",
    "## Time and Space in Special Relativity\n",
    "\n",
    "### Proper Time and Time Dilation\n",
    "\n",
    "### Proper Length and Length Contraction\n",
    "\n",
    "### The Relativistic Doppler Shift\n",
    "\n",
    "### The Relativistic Velocity Transformation\n"
   ]
  },
  {
   "cell_type": "markdown",
   "metadata": {},
   "source": [
    "\n",
    "## Relativistic Momentum and Energy\n",
    "\n",
    "### The Derivation of $E=mc^2$\n",
    "\n",
    "### The Derivation of Relativistic Momentum\n"
   ]
  },
  {
   "cell_type": "markdown",
   "metadata": {},
   "source": [
    "## **Homework**\n",
    "```{admonition} Problem 1\n",
    "Problem 1 goes here.\n",
    "```\n"
   ]
  }
 ],
 "metadata": {
  "interpreter": {
   "hash": "be4bb3c2f54353c26a4bcaba16037df563cd9cf9cf84d3cc553cf8d78d2d3996"
  },
  "kernelspec": {
   "display_name": "Python 3.8.8 ('base')",
   "language": "python",
   "name": "python3"
  },
  "language_info": {
   "codemirror_mode": {
    "name": "ipython",
    "version": 3
   },
   "file_extension": ".py",
   "mimetype": "text/x-python",
   "name": "python",
   "nbconvert_exporter": "python",
   "pygments_lexer": "ipython3",
   "version": "3.8.8"
  },
  "orig_nbformat": 4
 },
 "nbformat": 4,
 "nbformat_minor": 2
}
