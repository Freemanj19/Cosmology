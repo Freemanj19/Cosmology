{
 "cells": [
  {
   "cell_type": "markdown",
   "metadata": {},
   "source": [
    "# General Relativity and Black Holes\n",
    "\n",
    "## The General Theory of Relativity\n",
    "\n",
    "### The Curvature of Spacetime\n",
    "\n",
    "### The Principle of Equivalence\n",
    "\n",
    "### THe Bending of Light\n",
    "\n",
    "### Gravitational Redshift and Time Dilation\n"
   ]
  },
  {
   "cell_type": "markdown",
   "metadata": {},
   "source": [
    "\n",
    "## Intervals and Geodesics\n",
    "\n",
    "### Worldlines and Light Cones\n",
    "\n",
    "### Spacetime Intervals, Proper Time, and Proper Distance\n",
    "\n",
    "### The Metric for Flat Spacetime\n",
    "\n",
    "### Curved Spacetime and the Schwarzschild Metric\n",
    "\n",
    "### The Orbit of a Satellite\n"
   ]
  },
  {
   "cell_type": "markdown",
   "metadata": {},
   "source": [
    "\n",
    "## Black Holes\n",
    "\n",
    "### The Schwarzschild Radius\n",
    "\n",
    "### A Trip into a Black Hole\n",
    "\n",
    "### Mass Ranges of Black Holes\n",
    "\n",
    "### Black Holes Have No Hair!\n",
    "\n",
    "### Spacetime Frame Dragging\n",
    "\n",
    "### Tunnels in Spacetime\n",
    "\n",
    "### Stellar-Mass Black Hole Candidates\n",
    "\n",
    "### Hawking Radiation\n",
    "\n"
   ]
  },
  {
   "cell_type": "markdown",
   "metadata": {},
   "source": [
    "## **Homework**\n",
    "```{admonition} Problem 1\n",
    "Problem 1 goes here.\n",
    "```\n"
   ]
  }
 ],
 "metadata": {
  "interpreter": {
   "hash": "be4bb3c2f54353c26a4bcaba16037df563cd9cf9cf84d3cc553cf8d78d2d3996"
  },
  "kernelspec": {
   "display_name": "Python 3.8.8 ('base')",
   "language": "python",
   "name": "python3"
  },
  "language_info": {
   "codemirror_mode": {
    "name": "ipython",
    "version": 3
   },
   "file_extension": ".py",
   "mimetype": "text/x-python",
   "name": "python",
   "nbconvert_exporter": "python",
   "pygments_lexer": "ipython3",
   "version": "3.8.8"
  },
  "orig_nbformat": 4
 },
 "nbformat": 4,
 "nbformat_minor": 2
}
