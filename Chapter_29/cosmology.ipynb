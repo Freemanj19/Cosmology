{
 "cells": [
  {
   "attachments": {},
   "cell_type": "markdown",
   "metadata": {},
   "source": [
    "# Cosmology\n",
    "\n",
    "## Newtonian Cosmology\n",
    "\n",
    "### Olber's Paradox\n",
    "\n",
    "### The Cosmological Principle\n",
    "\n",
    "### A Simple Pressureless \"Dust\" Model of the Universe\n",
    "\n",
    "### The Evolution of the Pressureless \"Dust\" Universe\n",
    "\n",
    "### The Age of the Pressureless \"Dust\" Universe\n",
    "\n",
    "### The Lookback Time\n",
    "\n",
    "### Extending Our Simple Model to Include Pressure\n",
    "\n",
    "### The Deceleration Parameter\n"
   ]
  },
  {
   "attachments": {},
   "cell_type": "markdown",
   "metadata": {},
   "source": [
    "## The Cosmic Microwave Background (CMB)\n",
    "\n",
    "###  The Steady-State Model of the Universe\n",
    "\n",
    "### The Cooling of the Universe after the Big Bang\n",
    "\n",
    "### The Discovery of the CMB\n",
    "\n",
    "### The Dipole Anisotropy of the CMB\n",
    "\n",
    "### The Sunyaev-Zel'dovich Effect\n",
    "\n",
    "### Does the CMB Constitute a Preferred Frame of Reference?\n",
    "\n",
    "### A Two-component Model of the Universe\n",
    "\n",
    "### Neutrino Decoupling\n",
    "\n",
    "### The Energy Density of Relativistic Particles\n",
    "\n",
    "### Transition from the Radiation to the Matter Era\n",
    "\n",
    "### Expansion in the Two-component Model\n",
    "\n",
    "### Big Bang Nucleosynthesis\n",
    "\n",
    "### The origin of the CMB\n",
    "\n",
    "### The Surface of Last Scattering\n",
    "\n",
    "### The Conditions at Recombination\n",
    "\n",
    "### The Dawn of Precision Cosmology\n"
   ]
  },
  {
   "attachments": {},
   "cell_type": "markdown",
   "metadata": {},
   "source": [
    "## Relativistic Cosmology\n",
    "\n",
    "### Euclidean, Elliptic, and Hyperbolic Geometries\n",
    "\n",
    "### The Robertson-Walker Metric for Curved Spacetime\n",
    "\n",
    "### The Friedmann Equation\n",
    "\n",
    "### The Cosmological Constant\n",
    "\n",
    "### The Effects of Dark Energy\n",
    "\n",
    "### The $\\Lambda$ Era\n",
    "\n",
    "### Model Universes on the $\\Omega_{m,0}-\\Omega_{\\Lambda,0}$ Plane"
   ]
  },
  {
   "attachments": {},
   "cell_type": "markdown",
   "metadata": {},
   "source": [
    "## Observational Cosmology\n",
    "\n",
    "### The Origin of the Cosmological Redshift\n",
    "\n",
    "### Distances to the Most Remote Objects in the Universe\n",
    "\n",
    "### The Particle Horizon and the Horizon Distance\n",
    "\n",
    "### The Arrival of Photons\n",
    "\n",
    "### The Maximum Visible Age of a Source\n",
    "\n",
    "### The Comoving Coordinate $\\varpi(z)$\n",
    "\n",
    "### The Proper Distance\n",
    "\n",
    "### The Luminosity Distance\n",
    "\n",
    "### The Redshift Magnitude Relation\n",
    "\n",
    "### Angular Diameter Distance\n"
   ]
  },
  {
   "cell_type": "markdown",
   "metadata": {},
   "source": [
    "## **Homework**\n",
    "```{admonition} Problem 1\n",
    "Problem 1 goes here.\n",
    "```\n"
   ]
  }
 ],
 "metadata": {
  "interpreter": {
   "hash": "be4bb3c2f54353c26a4bcaba16037df563cd9cf9cf84d3cc553cf8d78d2d3996"
  },
  "kernelspec": {
   "display_name": "Python 3.8.8 ('base')",
   "language": "python",
   "name": "python3"
  },
  "language_info": {
   "codemirror_mode": {
    "name": "ipython",
    "version": 3
   },
   "file_extension": ".py",
   "mimetype": "text/x-python",
   "name": "python",
   "nbconvert_exporter": "python",
   "pygments_lexer": "ipython3",
   "version": "3.8.8"
  },
  "orig_nbformat": 4
 },
 "nbformat": 4,
 "nbformat_minor": 2
}
