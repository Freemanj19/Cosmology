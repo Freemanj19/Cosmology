{
 "cells": [
  {
   "cell_type": "markdown",
   "metadata": {},
   "source": [
    "# Galactic Evolution\n",
    "\n",
    "## Interactions of Galaxies\n",
    "\n",
    "### Evidence of Interactions\n",
    "\n",
    "### Dynamical Friction\n",
    "\n",
    "### Rapid Encounters\n",
    "\n",
    "### Modeling Interactions with $N$-Body Simulations\n",
    "\n",
    "### Starburst Galaxies\n",
    "\n",
    "### Mergers in Elliptical and cD Galaxies\n",
    "\n",
    "### Binary Supermassive Black Holes\n"
   ]
  },
  {
   "cell_type": "markdown",
   "metadata": {},
   "source": [
    "\n",
    "## The Formation of Galaxies\n",
    "\n",
    "### The Eggen, Lynden-Bell, Sandage (ELS) collapse model\n",
    "\n",
    "### Problems with the ELS Model\n",
    "\n",
    "### The Stellar Birthrate Function\n",
    "\n",
    "### The G-Dwarf Problem\n",
    "\n",
    "### A Dissipative Collapse Model\n",
    "\n",
    "### The Hierarchical Merger Model\n",
    "\n",
    "### Formation of the Thick and Thin Disks\n",
    "\n",
    "### The Existence of Young Stars in the Central Bulge\n",
    "\n",
    "### Metallicity Gradients\n",
    "\n",
    "### The Formation of Elliptical Galaxies\n",
    "\n",
    "### Galaxy Formation in the Early Universe\n"
   ]
  },
  {
   "cell_type": "markdown",
   "metadata": {},
   "source": [
    "## **Homework**\n",
    "```{admonition} Problem 1\n",
    "Problem 1 goes here.\n",
    "```\n"
   ]
  }
 ],
 "metadata": {
  "interpreter": {
   "hash": "be4bb3c2f54353c26a4bcaba16037df563cd9cf9cf84d3cc553cf8d78d2d3996"
  },
  "kernelspec": {
   "display_name": "Python 3.8.8 ('base')",
   "language": "python",
   "name": "python3"
  },
  "language_info": {
   "codemirror_mode": {
    "name": "ipython",
    "version": 3
   },
   "file_extension": ".py",
   "mimetype": "text/x-python",
   "name": "python",
   "nbconvert_exporter": "python",
   "pygments_lexer": "ipython3",
   "version": "3.8.8"
  },
  "orig_nbformat": 4
 },
 "nbformat": 4,
 "nbformat_minor": 2
}
