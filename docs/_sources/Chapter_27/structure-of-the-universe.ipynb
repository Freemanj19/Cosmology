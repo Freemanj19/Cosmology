{
 "cells": [
  {
   "attachments": {},
   "cell_type": "markdown",
   "metadata": {},
   "source": [
    "# The Structure of the Universe\n",
    "\n",
    "## The Extragalactic Distance Scale\n",
    "\n",
    "### Unveiling the 3rd Dimension\n",
    "\n",
    "### The Wilson-Bappu Effect\n",
    "\n",
    "### The Cepheid Distance Scale\n",
    "\n",
    "### Supernovae as Distance Indicators\n",
    "\n",
    "### Type Ia Light Curves\n",
    "\n",
    "### Using Novae in Distance Determinations\n",
    "\n",
    "### Secondary Distance Indicators\n",
    "\n",
    "### The Globular Cluster Luminosity Function\n",
    "\n",
    "### The Planetary Nebula Luminosity Function\n",
    "\n",
    "### The Surface Brightness Fluctuation Method\n",
    "\n",
    "### The Tully-Fisher Relation\n",
    "\n",
    "### The $D-\\sigma$ Relation\n",
    "\n",
    "### The Brightest Galaxies in Clusters\n"
   ]
  },
  {
   "attachments": {},
   "cell_type": "markdown",
   "metadata": {},
   "source": [
    "## The Expansion of the Universe\n",
    "\n",
    "### Hubble's Law of Universal Expansion\n",
    "\n",
    "### The Expansion of Space and the Hubble Flow\n",
    "\n",
    "### The Value of the Hubble Constant\n",
    "\n",
    "### The Big Bang\n"
   ]
  },
  {
   "attachments": {},
   "cell_type": "markdown",
   "metadata": {},
   "source": [
    "## Clusters of Galaxies\n",
    "\n",
    "### The Classification of Clusters\n",
    "\n",
    "### The Local Group\n",
    "\n",
    "### Other Groups within $10\\ \\rm Mpc$ of the Local Group\n",
    "\n",
    "### The Virgo Cluster: A Rich, *Irregular* Cluster\n",
    "\n",
    "### The Coma Cluster: A Rich, *Regular* Cluster\n",
    "\n",
    "### Evidence for the Evolution of Galaxies\n",
    "\n",
    "### A Preponderance of Matter between the Galaxies\n",
    "\n",
    "### The Hot, Intracluster Gas\n",
    "\n",
    "### The Existence of Superclusters\n",
    "\n",
    "### Large-scale Motions Relative to the Hubble Flow\n",
    "\n",
    "### Bubbles and Voids: Structure on the Largest Scales\n",
    "\n",
    "### Quantifying Large-scale Structure\n",
    "\n",
    "### What were the Seeds of Structure?\n",
    "\n"
   ]
  },
  {
   "cell_type": "markdown",
   "metadata": {},
   "source": [
    "## **Homework**\n",
    "```{admonition} Problem 1\n",
    "Problem 1 goes here.\n",
    "```\n"
   ]
  }
 ],
 "metadata": {
  "interpreter": {
   "hash": "be4bb3c2f54353c26a4bcaba16037df563cd9cf9cf84d3cc553cf8d78d2d3996"
  },
  "kernelspec": {
   "display_name": "Python 3.8.8 ('base')",
   "language": "python",
   "name": "python3"
  },
  "language_info": {
   "codemirror_mode": {
    "name": "ipython",
    "version": 3
   },
   "file_extension": ".py",
   "mimetype": "text/x-python",
   "name": "python",
   "nbconvert_exporter": "python",
   "pygments_lexer": "ipython3",
   "version": "3.8.8"
  },
  "orig_nbformat": 4
 },
 "nbformat": 4,
 "nbformat_minor": 2
}
