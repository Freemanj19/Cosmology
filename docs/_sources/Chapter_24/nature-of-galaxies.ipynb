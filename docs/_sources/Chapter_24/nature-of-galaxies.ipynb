{
 "cells": [
  {
   "cell_type": "markdown",
   "metadata": {},
   "source": [
    "# The Nature of Galaxies\n",
    "\n",
    "## The Hubble Sequence\n",
    "\n",
    "### Cataloging the Island Universes\n",
    "\n",
    "### The Great Shapley-Curtis Debate\n",
    "\n",
    "### The Classification of Galaxies\n"
   ]
  },
  {
   "cell_type": "markdown",
   "metadata": {},
   "source": [
    "\n",
    "## Spiral and Irregular Galaxies\n",
    "\n",
    "### The $K$-Correction\n",
    "\n",
    "### The Brightness of the Background Sky\n",
    "\n",
    "### Isophotes and the de Vaucouleurs Profile\n",
    "\n",
    "### The Rotation Curves of Galaxies\n",
    "\n",
    "### The Tully-Fisher Relation\n",
    "\n",
    "### Radius-Luminosity Relation and Mass-to-Light Ratios\n",
    "\n",
    "### Colors and the Abundance of Gas and Dust\n",
    "\n",
    "### Metallicity and Color Gradients of Spirals\n",
    "\n",
    "### X-ray Luminosity\n",
    "\n",
    "### Supermassive Black Holes\n",
    "\n",
    "### Specific Frequency of Globular Clusters\n"
   ]
  },
  {
   "cell_type": "markdown",
   "metadata": {},
   "source": [
    "\n",
    "## Spiral Structure\n",
    "\n",
    "### Trailing and Leading Spiral Arms\n",
    "\n",
    "### The Winding Problem\n",
    "\n",
    "### The Lin-Shu Density Wave Theory\n",
    "\n",
    "### Small-amplitude Orbital Perturbations\n",
    "\n",
    "### Closed Orbits in Noninertial Frames\n",
    "\n",
    "### Nonlinear Effects in Density Wave Theory\n",
    "\n",
    "### Numerical $N$-Body Simulations\n",
    "\n",
    "### Stochastic, Self-Propagating Star Formation\n"
   ]
  },
  {
   "cell_type": "markdown",
   "metadata": {},
   "source": [
    "\n",
    "## Elliptical Galaxies\n",
    "\n",
    "### Morphological Classes\n",
    "\n",
    "### Dust and Gas\n",
    "\n",
    "### Metallicity and Color Gradients\n",
    "\n",
    "### The Faber-Jackson Relation\n",
    "\n",
    "### The Fundamental Plane\n",
    "\n",
    "### The Effects of Rotation\n",
    "\n",
    "### Correlations with Boxiness or Diskiness\n",
    "\n",
    "### The Relative Numbers of Galaxies of Various Hubble Types\n"
   ]
  },
  {
   "cell_type": "markdown",
   "metadata": {},
   "source": [
    "## **Homework**\n",
    "```{admonition} Problem 1\n",
    "Problem 1 goes here.\n",
    "```\n"
   ]
  }
 ],
 "metadata": {
  "interpreter": {
   "hash": "be4bb3c2f54353c26a4bcaba16037df563cd9cf9cf84d3cc553cf8d78d2d3996"
  },
  "kernelspec": {
   "display_name": "Python 3.8.8 ('base')",
   "language": "python",
   "name": "python3"
  },
  "language_info": {
   "codemirror_mode": {
    "name": "ipython",
    "version": 3
   },
   "file_extension": ".py",
   "mimetype": "text/x-python",
   "name": "python",
   "nbconvert_exporter": "python",
   "pygments_lexer": "ipython3",
   "version": "3.8.8"
  },
  "orig_nbformat": 4
 },
 "nbformat": 4,
 "nbformat_minor": 2
}
