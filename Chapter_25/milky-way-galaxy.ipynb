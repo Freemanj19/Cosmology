{
 "cells": [
  {
   "cell_type": "markdown",
   "metadata": {},
   "source": [
    "# The Milky Way Galaxy\n",
    "\n",
    "## Counting the Stars in the Sky\n",
    "\n",
    "### Historical Models\n",
    "\n",
    "### The Effects of Interstellar Extinction\n",
    "\n",
    "### Differential and Integrated Star Counts\n"
   ]
  },
  {
   "cell_type": "markdown",
   "metadata": {},
   "source": [
    "\n",
    "## Basic Morphology\n",
    "\n",
    "### The Distance to the Galactic Center\n",
    "\n",
    "### The Structure of the Thin and Thick Disks\n",
    "\n",
    "### The Age-Metallicity Relation\n",
    "\n",
    "### Age Estimates of the Thin and Thick Disks\n",
    "\n",
    "### Mass-to-Light Ratios\n"
   ]
  },
  {
   "cell_type": "markdown",
   "metadata": {},
   "source": [
    "## The Structure of the Milky Way Galaxy\n",
    "\n",
    "### Spiral Structure\n",
    "\n",
    "### Interstellar Gas and Dust\n",
    "\n",
    "### The Disruption of Satellite Galaxies\n",
    "\n",
    "### The Galactic Bulge\n",
    "\n",
    "### The Milky Way's Central Bar\n",
    "\n",
    "### The 3-kpc Expanding Arm\n",
    "\n",
    "### The Stellar Halo and Globular Cluster System\n",
    "\n",
    "### The Dark Matter Halo\n",
    "\n",
    "### The Galactic Magnetic Field\n"
   ]
  },
  {
   "cell_type": "markdown",
   "metadata": {},
   "source": [
    "\n",
    "## The Kinematics of the Milky Way\n",
    "\n",
    "### The Galactic Coordinate System\n",
    "\n",
    "### A Cylindrical Coordinate System for Galactic Motions\n",
    "\n",
    "### Peculiar Motions and the Local Standard of Rest (LSR)\n",
    "\n",
    "### Differential Galactic Rotation and Oort's Constants\n",
    "\n",
    "### Hydrogen 21-cm Line as a Probe of Galactic Structure\n",
    "\n",
    "### The Flat Rotation Curve and Evidence of Dark Matter\n",
    "\n",
    "### Some Methods for Determining Distances\n"
   ]
  },
  {
   "cell_type": "markdown",
   "metadata": {},
   "source": [
    "\n",
    "## The Galactic Center\n",
    "\n",
    "### The Mass Distribution Near the Galactic Center\n",
    "\n",
    "### Radio Sources in Sagittarius\n",
    "\n",
    "### an X-Ray Source in Sgr A\n",
    "\n",
    "### The Supermassive Black Hole in Sgr A*\n",
    "\n",
    "### High-energy Emission Lines from near the Galactic Center\n"
   ]
  },
  {
   "cell_type": "markdown",
   "metadata": {},
   "source": [
    "## **Homework**\n",
    "```{admonition} Problem 1\n",
    "Problem 1 goes here.\n",
    "```\n"
   ]
  }
 ],
 "metadata": {
  "interpreter": {
   "hash": "be4bb3c2f54353c26a4bcaba16037df563cd9cf9cf84d3cc553cf8d78d2d3996"
  },
  "kernelspec": {
   "display_name": "Python 3.8.8 ('base')",
   "language": "python",
   "name": "python3"
  },
  "language_info": {
   "codemirror_mode": {
    "name": "ipython",
    "version": 3
   },
   "file_extension": ".py",
   "mimetype": "text/x-python",
   "name": "python",
   "nbconvert_exporter": "python",
   "pygments_lexer": "ipython3",
   "version": "3.8.8"
  },
  "orig_nbformat": 4
 },
 "nbformat": 4,
 "nbformat_minor": 2
}
